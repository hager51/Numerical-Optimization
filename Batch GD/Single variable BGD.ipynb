{
 "cells": [
  {
   "cell_type": "markdown",
   "metadata": {},
   "source": [
    "## Import Libraries"
   ]
  },
  {
   "cell_type": "code",
   "execution_count": 1,
   "metadata": {},
   "outputs": [],
   "source": [
    "import numpy as np\n",
    "import matplotlib.pyplot as plt\n",
    "\n",
    "from sklearn.metrics import r2_score"
   ]
  },
  {
   "cell_type": "markdown",
   "metadata": {},
   "source": [
    "## Read and Explore the Data"
   ]
  },
  {
   "cell_type": "markdown",
   "metadata": {},
   "source": [
    "#### Read RegData csv file into numpy array\n",
    "##### Data source\n",
    "https://college.cengage.com/mathematics/brase/understandable_statistics/7e/students/datasets/slr/frames/frame.html\n"
   ]
  },
  {
   "cell_type": "code",
   "execution_count": 2,
   "metadata": {},
   "outputs": [],
   "source": [
    "data = np.genfromtxt('RegData.csv', delimiter=',', dtype=None)"
   ]
  },
  {
   "cell_type": "markdown",
   "metadata": {},
   "source": [
    "#### Explore data"
   ]
  },
  {
   "cell_type": "code",
   "execution_count": 3,
   "metadata": {},
   "outputs": [
    {
     "data": {
      "text/plain": [
       "array([[2.9000001 , 4.        ],\n",
       "       [6.69999981, 7.4000001 ],\n",
       "       [4.9000001 , 5.        ],\n",
       "       [7.9000001 , 7.19999981],\n",
       "       [9.80000019, 7.9000001 ],\n",
       "       [6.9000001 , 6.0999999 ],\n",
       "       [6.0999999 , 6.        ],\n",
       "       [6.19999981, 5.80000019],\n",
       "       [6.        , 5.19999981],\n",
       "       [5.0999999 , 4.19999981],\n",
       "       [4.69999981, 4.        ],\n",
       "       [4.4000001 , 4.4000001 ],\n",
       "       [5.80000019, 5.19999981]])"
      ]
     },
     "execution_count": 3,
     "metadata": {},
     "output_type": "execute_result"
    }
   ],
   "source": [
    "data"
   ]
  },
  {
   "cell_type": "code",
   "execution_count": 4,
   "metadata": {},
   "outputs": [
    {
     "data": {
      "text/plain": [
       "(13, 2)"
      ]
     },
     "execution_count": 4,
     "metadata": {},
     "output_type": "execute_result"
    }
   ],
   "source": [
    "np.shape(data)"
   ]
  },
  {
   "cell_type": "markdown",
   "metadata": {},
   "source": [
    "#### Define variables X and y. Assign first column data to X and second column to y\n",
    "<b>Note:</b> X is the independent variable (input to LR model) and y is the dependent variable (output)"
   ]
  },
  {
   "cell_type": "code",
   "execution_count": 5,
   "metadata": {},
   "outputs": [],
   "source": [
    "X = data[:, 0]\n",
    "y = data[:, 1]"
   ]
  },
  {
   "cell_type": "code",
   "execution_count": 6,
   "metadata": {},
   "outputs": [
    {
     "name": "stdout",
     "output_type": "stream",
     "text": [
      "Shape of X =  (13,)\n",
      "independent variable :  [2.9000001  6.69999981 4.9000001  7.9000001  9.80000019 6.9000001\n",
      " 6.0999999  6.19999981 6.         5.0999999  4.69999981 4.4000001\n",
      " 5.80000019]\n"
     ]
    }
   ],
   "source": [
    "print(\"Shape of X = \", np.shape(X))\n",
    "print(\"independent variable : \", X)"
   ]
  },
  {
   "cell_type": "code",
   "execution_count": 7,
   "metadata": {},
   "outputs": [
    {
     "name": "stdout",
     "output_type": "stream",
     "text": [
      "Shape of y =  (13,)\n",
      "dependent variable :  [4.         7.4000001  5.         7.19999981 7.9000001  6.0999999\n",
      " 6.         5.80000019 5.19999981 4.19999981 4.         4.4000001\n",
      " 5.19999981]\n"
     ]
    }
   ],
   "source": [
    "print(\"Shape of y = \", np.shape(y))\n",
    "print(\"dependent variable : \", y)"
   ]
  },
  {
   "cell_type": "markdown",
   "metadata": {},
   "source": [
    "#### Plot the original data (scatter plot of X,y)"
   ]
  },
  {
   "cell_type": "code",
   "execution_count": 8,
   "metadata": {},
   "outputs": [
    {
     "data": {
      "image/png": "[encoded data removed]",
      "text/plain": [
       "<Figure size 432x288 with 1 Axes>"
      ]
     },
     "metadata": {
      "needs_background": "light"
     },
     "output_type": "display_data"
    }
   ],
   "source": [
    "plt.scatter(X, y)\n",
    "plt.xlabel('X'); plt.ylabel('Y');\n",
    "plt.title('Input data');"
   ]
  },
  {
   "cell_type": "markdown",
   "metadata": {},
   "source": [
    "## LR Full Implementation"
   ]
  },
  {
   "cell_type": "markdown",
   "metadata": {},
   "source": [
    "### Step1: \n",
    "#### Initialize model parameters with zero.  \n",
    "#### Choose value of the Learning rate. "
   ]
  },
  {
   "cell_type": "code",
   "execution_count": 9,
   "metadata": {},
   "outputs": [],
   "source": [
    "# Initialize parameters (theta_0 , theta_1)\n",
    "theta = np.zeros(2)\n",
    "\n",
    "# Choose the Learning rate\n",
    "alpha = 0.02\n",
    "\n",
    "# Number of ietation\n",
    "num_iters = 1500"
   ]
  },
  {
   "cell_type": "markdown",
   "metadata": {},
   "source": [
    "### Step2: Predict the output h(x) = theta_0 + theta_1 * x"
   ]
  },
  {
   "cell_type": "code",
   "execution_count": 10,
   "metadata": {},
   "outputs": [],
   "source": [
    "def hypothesis(X, theta):\n",
    "    h = theta[0] + X*theta[1]\n",
    "    return h"
   ]
  },
  {
   "cell_type": "markdown",
   "metadata": {},
   "source": [
    "### Step3: Calculate Cost function 𝑱(theta_0,theta_1 )."
   ]
  },
  {
   "cell_type": "code",
   "execution_count": 11,
   "metadata": {},
   "outputs": [],
   "source": [
    "def cost_fun(y, h, m):\n",
    "    J = (1/(2*m)) * np.sum((h - y)**2)\n",
    "    return J"
   ]
  },
  {
   "cell_type": "markdown",
   "metadata": {},
   "source": [
    "### Step4: Calculate the gradient."
   ]
  },
  {
   "cell_type": "code",
   "execution_count": 12,
   "metadata": {},
   "outputs": [],
   "source": [
    "def gradient(X, y, h, m):\n",
    "    Gtheta_0 = (1/m) * np.sum((h - y))\n",
    "    Gtheta_1 = (1/m) * np.sum((h - y) * X)\n",
    "    return Gtheta_0, Gtheta_1"
   ]
  },
  {
   "cell_type": "markdown",
   "metadata": {},
   "source": [
    "### Step5: Update the model parameters (simultaneously)."
   ]
  },
  {
   "cell_type": "code",
   "execution_count": 13,
   "metadata": {},
   "outputs": [],
   "source": [
    "def update(theta, Gtheta_0, Gtheta_1, alpha):\n",
    "    theta0_new = theta[0] - alpha * Gtheta_0\n",
    "    theta1_new = theta[1] - alpha * Gtheta_1\n",
    "    return theta0_new, theta1_new"
   ]
  },
  {
   "cell_type": "markdown",
   "metadata": {},
   "source": [
    "### Step6: Repeat from 2 to 5 until converge to the minimum or achieve maximum iterations."
   ]
  },
  {
   "cell_type": "code",
   "execution_count": 14,
   "metadata": {},
   "outputs": [],
   "source": [
    "def GD(X, y, theta, alpha, num_iters, stopCriteria): \n",
    "    J_history = [] \n",
    "    theta_history = []\n",
    "    m = y.size\n",
    "    cost = 0\n",
    "    for _ in range(num_iters):\n",
    "        h = hypothesis(X, theta)\n",
    "        J = cost_fun(y, h, m)\n",
    "        if abs(cost-J) < stopCriteria:\n",
    "            break\n",
    "        cost = J\n",
    "\n",
    "        grad_th0, grad_th1 = gradient(X, y, h, m)\n",
    "        \n",
    "        theta[0], theta[1] = update(theta, grad_th0, grad_th1, alpha)\n",
    "        \n",
    "        J_history.append(J)\n",
    "        theta_history.append(theta)\n",
    "    return theta_history, J_history"
   ]
  },
  {
   "cell_type": "markdown",
   "metadata": {},
   "source": [
    "## Use GD model to predict y values "
   ]
  },
  {
   "cell_type": "code",
   "execution_count": 15,
   "metadata": {},
   "outputs": [],
   "source": [
    "theta_history, J_history = GD(X ,y, theta, alpha, num_iters, stopCriteria=1e-6)\n",
    "optimal_theta = theta_history[-1]\n",
    "y_pred = optimal_theta[0] + X*optimal_theta[1]"
   ]
  },
  {
   "cell_type": "markdown",
   "metadata": {},
   "source": [
    "### Plot  LR equation output (fitted line) with the original data "
   ]
  },
  {
   "cell_type": "code",
   "execution_count": 16,
   "metadata": {},
   "outputs": [
    {
     "data": {
      "image/png": "[encoded data removed]",
      "text/plain": [
       "<Figure size 432x288 with 1 Axes>"
      ]
     },
     "metadata": {
      "needs_background": "light"
     },
     "output_type": "display_data"
    }
   ],
   "source": [
    "plt.scatter(X, y)\n",
    "plt.xlabel('X'); plt.ylabel('Y');\n",
    "plt.plot(X, y_pred, '-', color='r');"
   ]
  },
  {
   "cell_type": "markdown",
   "metadata": {},
   "source": [
    "### Use R2 score to evaluate LR equation output"
   ]
  },
  {
   "cell_type": "code",
   "execution_count": 17,
   "metadata": {},
   "outputs": [
    {
     "name": "stdout",
     "output_type": "stream",
     "text": [
      "R2 Score =  0.8201607622793285\n"
     ]
    }
   ],
   "source": [
    "print(\"R2 Score = \", r2_score(y, y_pred))"
   ]
  },
  {
   "cell_type": "markdown",
   "metadata": {},
   "source": [
    "## Plot loss vs. iterations"
   ]
  },
  {
   "cell_type": "code",
   "execution_count": 18,
   "metadata": {},
   "outputs": [
    {
     "data": {
      "image/png": "[encoded data removed]",
      "text/plain": [
       "<Figure size 432x288 with 1 Axes>"
      ]
     },
     "metadata": {
      "needs_background": "light"
     },
     "output_type": "display_data"
    }
   ],
   "source": [
    "plt.plot(J_history, 'b', label='Loss vs. Iterations')\n",
    "plt.xlabel('Iterations')\n",
    "plt.ylabel('Loss')\n",
    "plt.legend()\n",
    "plt.show()"
   ]
  },
  {
   "cell_type": "markdown",
   "metadata": {},
   "source": [
    "## Compare results eith sklearn"
   ]
  },
  {
   "cell_type": "code",
   "execution_count": 19,
   "metadata": {},
   "outputs": [
    {
     "data": {
      "text/plain": [
       "LinearRegression()"
      ]
     },
     "execution_count": 19,
     "metadata": {},
     "output_type": "execute_result"
    }
   ],
   "source": [
    "from sklearn import linear_model\n",
    "\n",
    "# Create linear regression object\n",
    "regr = linear_model.LinearRegression()\n",
    "\n",
    "# Train the model\n",
    "regr.fit(X.reshape(-1, 1), y)"
   ]
  },
  {
   "cell_type": "code",
   "execution_count": 20,
   "metadata": {},
   "outputs": [
    {
     "name": "stdout",
     "output_type": "stream",
     "text": [
      "R2 score = 0.82\n"
     ]
    }
   ],
   "source": [
    "# Make predictions using the trained model\n",
    "y_pred = regr.predict(X.reshape(-1, 1))\n",
    "\n",
    "# R2 score\n",
    "print(\"R2 score = %.2f\" % r2_score(y, y_pred))"
   ]
  },
  {
   "cell_type": "code",
   "execution_count": 21,
   "metadata": {},
   "outputs": [
    {
     "data": {
      "image/png": "[encoded data removed]",
      "text/plain": [
       "<Figure size 432x288 with 1 Axes>"
      ]
     },
     "metadata": {
      "needs_background": "light"
     },
     "output_type": "display_data"
    }
   ],
   "source": [
    "# Plot outputs\n",
    "plt.scatter(X, y, color=\"b\")\n",
    "plt.plot(X, y_pred, color=\"r\")\n",
    "plt.xlabel('X'); plt.ylabel('Y');\n",
    "\n",
    "plt.show()"
   ]
  }
 ],
 "metadata": {
  "kernelspec": {
   "display_name": "Python 3",
   "language": "python",
   "name": "python3"
  },
  "language_info": {
   "codemirror_mode": {
    "name": "ipython",
    "version": 3
   },
   "file_extension": ".py",
   "mimetype": "text/x-python",
   "name": "python",
   "nbconvert_exporter": "python",
   "pygments_lexer": "ipython3",
   "version": "3.9.7"
  }
 },
 "nbformat": 4,
 "nbformat_minor": 4
}
