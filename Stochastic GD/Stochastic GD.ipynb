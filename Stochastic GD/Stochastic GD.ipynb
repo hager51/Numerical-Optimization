{
 "cells": [
  {
   "cell_type": "markdown",
   "metadata": {},
   "source": [
    "## Import Libraries"
   ]
  },
  {
   "cell_type": "code",
   "execution_count": 42,
   "metadata": {},
   "outputs": [],
   "source": [
    "import numpy as np\n",
    "import matplotlib.pyplot as plt\n",
    "\n",
    "from sklearn.metrics import r2_score"
   ]
  },
  {
   "cell_type": "markdown",
   "metadata": {},
   "source": [
    "## Read and Explore the Data"
   ]
  },
  {
   "cell_type": "markdown",
   "metadata": {},
   "source": [
    "#### Read MultipleLR csv file into numpy array\n",
    "##### Data source\n",
    "https://college.cengage.com/mathematics/brase/understandable_statistics/7e/students/datasets/slr/frames/frame.html"
   ]
  },
  {
   "cell_type": "code",
   "execution_count": 43,
   "metadata": {},
   "outputs": [],
   "source": [
    "data = np.genfromtxt('RegData.csv', delimiter=',', dtype=None)"
   ]
  },
  {
   "cell_type": "markdown",
   "metadata": {},
   "source": [
    "#### Explore data"
   ]
  },
  {
   "cell_type": "code",
   "execution_count": 44,
   "metadata": {},
   "outputs": [
    {
     "data": {
      "text/plain": [
       "array([[2.9000001 , 4.        ],\n",
       "       [6.69999981, 7.4000001 ],\n",
       "       [4.9000001 , 5.        ],\n",
       "       [7.9000001 , 7.19999981],\n",
       "       [9.80000019, 7.9000001 ],\n",
       "       [6.9000001 , 6.0999999 ],\n",
       "       [6.0999999 , 6.        ],\n",
       "       [6.19999981, 5.80000019],\n",
       "       [6.        , 5.19999981],\n",
       "       [5.0999999 , 4.19999981],\n",
       "       [4.69999981, 4.        ],\n",
       "       [4.4000001 , 4.4000001 ],\n",
       "       [5.80000019, 5.19999981]])"
      ]
     },
     "execution_count": 44,
     "metadata": {},
     "output_type": "execute_result"
    }
   ],
   "source": [
    "data"
   ]
  },
  {
   "cell_type": "code",
   "execution_count": 45,
   "metadata": {},
   "outputs": [
    {
     "data": {
      "text/plain": [
       "(13, 2)"
      ]
     },
     "execution_count": 45,
     "metadata": {},
     "output_type": "execute_result"
    }
   ],
   "source": [
    "np.shape(data)"
   ]
  },
  {
   "cell_type": "markdown",
   "metadata": {},
   "source": [
    "#### Define variables X and y. Assign first column data to X and second column to y\n",
    "<b>Note:</b> X is the independent variable (input to LR model) and y is the dependent variable (output)"
   ]
  },
  {
   "cell_type": "code",
   "execution_count": 46,
   "metadata": {},
   "outputs": [],
   "source": [
    "X, y = data[:, 0], data[:, 1]"
   ]
  },
  {
   "cell_type": "code",
   "execution_count": 47,
   "metadata": {},
   "outputs": [
    {
     "name": "stdout",
     "output_type": "stream",
     "text": [
      "Shape of X =  (13,)\n",
      "independent variable :  [2.9000001  6.69999981 4.9000001  7.9000001  9.80000019 6.9000001\n",
      " 6.0999999  6.19999981 6.         5.0999999  4.69999981 4.4000001\n",
      " 5.80000019]\n"
     ]
    }
   ],
   "source": [
    "print(\"Shape of X = \", np.shape(X))\n",
    "print(\"independent variable : \", X)"
   ]
  },
  {
   "cell_type": "code",
   "execution_count": 48,
   "metadata": {},
   "outputs": [
    {
     "name": "stdout",
     "output_type": "stream",
     "text": [
      "Shape of y =  (13,)\n",
      "dependent variable :  [4.         7.4000001  5.         7.19999981 7.9000001  6.0999999\n",
      " 6.         5.80000019 5.19999981 4.19999981 4.         4.4000001\n",
      " 5.19999981]\n"
     ]
    }
   ],
   "source": [
    "print(\"Shape of y = \", np.shape(y))\n",
    "print(\"dependent variable : \", y)"
   ]
  },
  {
   "cell_type": "markdown",
   "metadata": {},
   "source": [
    "#### Plot the original data (scatter plot of X,y)"
   ]
  },
  {
   "cell_type": "code",
   "execution_count": 49,
   "metadata": {},
   "outputs": [
    {
     "data": {
      "image/png": "[encoded data removed]",
      "text/plain": [
       "<Figure size 432x288 with 1 Axes>"
      ]
     },
     "metadata": {
      "needs_background": "light"
     },
     "output_type": "display_data"
    }
   ],
   "source": [
    "plt.scatter(X, y)\n",
    "plt.xlabel('X'); plt.ylabel('Y');\n",
    "plt.title('Input data');"
   ]
  },
  {
   "cell_type": "markdown",
   "metadata": {},
   "source": [
    "## LR Full Implementation"
   ]
  },
  {
   "cell_type": "markdown",
   "metadata": {},
   "source": [
    "### Step1: \n",
    "#### Initialize model parameters with zero.  \n",
    "#### Choose value of the Learning rate. "
   ]
  },
  {
   "cell_type": "code",
   "execution_count": 50,
   "metadata": {},
   "outputs": [],
   "source": [
    "# Initialize parameters (theta_0 , theta_1)\n",
    "theta = np.zeros(2)\n",
    "\n",
    "# Choose the Learning rate\n",
    "alpha = 0.003"
   ]
  },
  {
   "cell_type": "markdown",
   "metadata": {},
   "source": [
    "### Step2: Predict the output h(x) = theta_0 + theta_1 * x"
   ]
  },
  {
   "cell_type": "code",
   "execution_count": 51,
   "metadata": {},
   "outputs": [],
   "source": [
    "def hypothesis(X, theta):\n",
    "    h = theta[0] + X*theta[1]\n",
    "    return h"
   ]
  },
  {
   "cell_type": "markdown",
   "metadata": {},
   "source": [
    "### Step3: Calculate Cost function 𝑱(theta_0,theta_1 )."
   ]
  },
  {
   "cell_type": "code",
   "execution_count": 52,
   "metadata": {},
   "outputs": [],
   "source": [
    "def cost_fun(y, h):\n",
    "    J = (1/2) * (h - y)**2\n",
    "    return J"
   ]
  },
  {
   "cell_type": "markdown",
   "metadata": {},
   "source": [
    "### Step4: Calculate the gradient."
   ]
  },
  {
   "cell_type": "code",
   "execution_count": 53,
   "metadata": {},
   "outputs": [],
   "source": [
    "def gradient(X, y, h):\n",
    "    Gtheta_0 = (h - y)\n",
    "    Gtheta_1 = (h - y) * X\n",
    "    return Gtheta_0, Gtheta_1"
   ]
  },
  {
   "cell_type": "markdown",
   "metadata": {},
   "source": [
    "### Step5: Update the model parameters (simultaneously)."
   ]
  },
  {
   "cell_type": "code",
   "execution_count": 54,
   "metadata": {},
   "outputs": [],
   "source": [
    "def update(theta, Gtheta_0, Gtheta_1, alpha):\n",
    "    theta[0] = theta[0] - alpha * Gtheta_0\n",
    "    theta[1] = theta[1] - alpha * Gtheta_1\n",
    "    return theta"
   ]
  },
  {
   "cell_type": "markdown",
   "metadata": {},
   "source": [
    "### Step6: Repeat from 2 to 5 until converge to the minimum or achieve maximum iterations."
   ]
  },
  {
   "cell_type": "code",
   "execution_count": 55,
   "metadata": {},
   "outputs": [],
   "source": [
    "def SGD(X, y, theta, alpha, num_iters, stopCriteria):\n",
    "    \n",
    "    J_history = [] \n",
    "    theta_history = []\n",
    "    m = y.size\n",
    "    cost = 0\n",
    "    for _ in range(num_iters):\n",
    "        flag = 0\n",
    "        for j in range(m):\n",
    "\n",
    "            X_B = X[j : (j+1)]\n",
    "            y_B = y[j : (j+1)]\n",
    "            \n",
    "            h = hypothesis(X_B, theta)\n",
    "\n",
    "            J = cost_fun(y_B, h)\n",
    "            if abs(cost-J) < stopCriteria:\n",
    "                break\n",
    "            cost = J\n",
    "\n",
    "            grad_th0, grad_th1 = gradient(X_B, y_B, h)\n",
    "            \n",
    "            theta = update(theta, grad_th0, grad_th1, alpha)\n",
    "        \n",
    "        if flag == 1:\n",
    "            break\n",
    "        J_history.append(J)\n",
    "        theta_history.append(theta)\n",
    "    return theta_history, J_history"
   ]
  },
  {
   "cell_type": "markdown",
   "metadata": {},
   "source": [
    "## Use GD model to predict y values "
   ]
  },
  {
   "cell_type": "code",
   "execution_count": 56,
   "metadata": {},
   "outputs": [],
   "source": [
    "theta_history, J_history = SGD(X ,y, theta, alpha, num_iters=500, stopCriteria=0.001)\n",
    "optimal_theta = theta_history[-1]\n",
    "y_pred = optimal_theta[0] + X*optimal_theta[1]"
   ]
  },
  {
   "cell_type": "markdown",
   "metadata": {},
   "source": [
    "### Plot  LR equation output (fitted line) with the original data "
   ]
  },
  {
   "cell_type": "code",
   "execution_count": 57,
   "metadata": {},
   "outputs": [
    {
     "data": {
      "image/png": "[encoded data removed]",
      "text/plain": [
       "<Figure size 432x288 with 1 Axes>"
      ]
     },
     "metadata": {
      "needs_background": "light"
     },
     "output_type": "display_data"
    }
   ],
   "source": [
    "plt.scatter(X, y)\n",
    "plt.xlabel('X'); plt.ylabel('Y')\n",
    "plt.plot(X, y_pred, '-', color='r');"
   ]
  },
  {
   "cell_type": "markdown",
   "metadata": {},
   "source": [
    "### Use R2 score to evaluate LR equation output"
   ]
  },
  {
   "cell_type": "code",
   "execution_count": 58,
   "metadata": {},
   "outputs": [
    {
     "name": "stdout",
     "output_type": "stream",
     "text": [
      "R2 Score =  0.8053261745827816\n"
     ]
    }
   ],
   "source": [
    "print(\"R2 Score = \", r2_score(y, y_pred))"
   ]
  },
  {
   "cell_type": "markdown",
   "metadata": {},
   "source": [
    "## Plot loss vs. iterations"
   ]
  },
  {
   "cell_type": "code",
   "execution_count": 59,
   "metadata": {},
   "outputs": [
    {
     "data": {
      "image/png": "[encoded data removed]",
      "text/plain": [
       "<Figure size 432x288 with 1 Axes>"
      ]
     },
     "metadata": {
      "needs_background": "light"
     },
     "output_type": "display_data"
    }
   ],
   "source": [
    "plt.plot(J_history, 'b', label='Loss vs. Iterations')\n",
    "plt.xlabel('Iterations')\n",
    "plt.ylabel('Loss')\n",
    "plt.legend()\n",
    "plt.show()"
   ]
  },
  {
   "cell_type": "code",
   "execution_count": 63,
   "metadata": {},
   "outputs": [
    {
     "data": {
      "image/png": "[encoded data removed]",
      "text/plain": [
       "<Figure size 432x288 with 1 Axes>"
      ]
     },
     "metadata": {
      "needs_background": "light"
     },
     "output_type": "display_data"
    }
   ],
   "source": [
    "plt.xlabel('X'); plt.ylabel('final Y_pred')\n",
    "plt.plot(X, y_pred, '-', color='r');"
   ]
  }
 ],
 "metadata": {
  "kernelspec": {
   "display_name": "Python 3",
   "language": "python",
   "name": "python3"
  },
  "language_info": {
   "codemirror_mode": {
    "name": "ipython",
    "version": 3
   },
   "file_extension": ".py",
   "mimetype": "text/x-python",
   "name": "python",
   "nbconvert_exporter": "python",
   "pygments_lexer": "ipython3",
   "version": "3.9.7"
  }
 },
 "nbformat": 4,
 "nbformat_minor": 4
}
